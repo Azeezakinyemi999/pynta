{
 "cells": [
  {
   "cell_type": "code",
   "execution_count": 1,
   "id": "6055c7a7",
   "metadata": {},
   "outputs": [],
   "source": [
    "import rmgpy.chemkin\n",
    "import rmgpy.data.rmg"
   ]
  },
  {
   "cell_type": "code",
   "execution_count": 2,
   "id": "404f9a09",
   "metadata": {},
   "outputs": [],
   "source": [
    "chemkin = 'chem_annotated-gas.inp'\n",
    "surface = 'chem_annotated-surface.inp'\n",
    "species_dict = 'species_dictionary.txt'\n",
    "\n",
    "species_list, reaction_list = rmgpy.chemkin.load_chemkin_file(chemkin, species_dict, surface_path=surface)"
   ]
  },
  {
   "cell_type": "code",
   "execution_count": 4,
   "id": "b03f8e94",
   "metadata": {},
   "outputs": [
    {
     "name": "stderr",
     "output_type": "stream",
     "text": [
      "WARNING:root:An instance of RMGDatabase already exists. Re-initializing it.\n",
      "WARNING:root:Cphigh is above the theoretical CpInf value for ThermoData object\n",
      "ThermoData(Tdata=([300,400,500,600,800,1000,1500],'K'), Cpdata=([60.2599,68.0494,74.7775,80.9311,90.8846,97.4337,105.393],'J/(mol*K)'), H298=(-477.191,'kJ/mol'), S298=(269.551,'J/(mol*K)'), Cp0=(33.2579,'J/(mol*K)'), CpInf=(103.931,'J/(mol*K)'), comment=\"\"\"Thermo group additivity estimation: group(O2s-(Cds-Cd)(Cds-Cd)) + group(O2s-(Cds-O2d)H) + group(Cds-OdOsOs) + group(Li-OCOdO) + radical(OC=OOJ)\"\"\").\n",
      "The thermo for this species is probably wrong! Setting CpInf = Cphigh for Entropy calculationat T = 2000.0 K...\n",
      "WARNING:root:Cphigh is above the theoretical CpInf value for ThermoData object\n",
      "ThermoData(Tdata=([300,400,500,600,800,1000,1500],'K'), Cpdata=([60.2599,68.0494,74.7775,80.9311,90.8846,97.4337,105.393],'J/(mol*K)'), H298=(-477.191,'kJ/mol'), S298=(269.551,'J/(mol*K)'), Cp0=(33.2579,'J/(mol*K)'), CpInf=(103.931,'J/(mol*K)'), comment=\"\"\"Thermo group additivity estimation: group(O2s-(Cds-Cd)(Cds-Cd)) + group(O2s-(Cds-O2d)H) + group(Cds-OdOsOs) + group(Li-OCOdO) + radical(OC=OOJ)\"\"\").\n",
      "The thermo for this species is probably wrong! Setting CpInf = Cphigh for Entropy calculationat T = 1666.6666666666665 K...\n",
      "WARNING:root:Found multiple binding energies for 'Cu'. Using 'Cu111'.\n",
      "WARNING:root:Found multiple binding energies for 'Cu'. Using 'Cu111'.\n",
      "WARNING:root:Found multiple binding energies for 'Cu'. Using 'Cu111'.\n",
      "WARNING:root:Found multiple binding energies for 'Cu'. Using 'Cu111'.\n",
      "WARNING:root:Found multiple binding energies for 'Cu'. Using 'Cu111'.\n",
      "WARNING:root:Found multiple binding energies for 'Cu'. Using 'Cu111'.\n",
      "WARNING:root:Found multiple binding energies for 'Cu'. Using 'Cu111'.\n",
      "WARNING:root:Found multiple binding energies for 'Cu'. Using 'Cu111'.\n",
      "WARNING:root:Found multiple binding energies for 'Cu'. Using 'Cu111'.\n",
      "WARNING:root:Found multiple binding energies for 'Cu'. Using 'Cu111'.\n",
      "WARNING:root:Found multiple binding energies for 'Cu'. Using 'Cu111'.\n",
      "WARNING:root:Found multiple binding energies for 'Cu'. Using 'Cu111'.\n",
      "WARNING:root:Found multiple binding energies for 'Cu'. Using 'Cu111'.\n",
      "WARNING:root:Found multiple binding energies for 'Cu'. Using 'Cu111'.\n",
      "WARNING:root:Found multiple binding energies for 'Cu'. Using 'Cu111'.\n",
      "WARNING:root:Found multiple binding energies for 'Cu'. Using 'Cu111'.\n",
      "WARNING:root:Found multiple binding energies for 'Pt'. Using 'Pt111'.\n",
      "WARNING:root:Found multiple binding energies for 'Pt'. Using 'Pt111'.\n",
      "WARNING:root:Found multiple binding energies for 'Pt'. Using 'Pt111'.\n",
      "WARNING:root:Found multiple binding energies for 'Pt'. Using 'Pt111'.\n",
      "WARNING:root:Found multiple binding energies for 'Pt'. Using 'Pt111'.\n",
      "WARNING:root:Found multiple binding energies for 'Pt'. Using 'Pt111'.\n",
      "WARNING:root:Found multiple binding energies for 'Pt'. Using 'Pt111'.\n",
      "WARNING:root:Found multiple binding energies for 'Pt'. Using 'Pt111'.\n",
      "WARNING:root:Found multiple binding energies for 'Pt'. Using 'Pt111'.\n",
      "WARNING:root:Found multiple binding energies for 'Pt'. Using 'Pt111'.\n",
      "WARNING:root:Found multiple binding energies for 'Pt'. Using 'Pt111'.\n",
      "WARNING:root:Found multiple binding energies for 'Pt'. Using 'Pt111'.\n",
      "WARNING:root:Found multiple binding energies for 'Pt'. Using 'Pt111'.\n",
      "WARNING:root:Found multiple binding energies for 'Cu'. Using 'Cu111'.\n",
      "WARNING:root:Found multiple binding energies for 'Cu'. Using 'Cu111'.\n",
      "WARNING:root:Found multiple binding energies for 'Cu'. Using 'Cu111'.\n",
      "WARNING:root:Found multiple binding energies for 'Cu'. Using 'Cu111'.\n",
      "WARNING:root:Found multiple binding energies for 'Ni'. Using 'Ni111'.\n",
      "WARNING:root:Found multiple binding energies for 'Ni'. Using 'Ni111'.\n",
      "WARNING:root:Found multiple binding energies for 'Ni'. Using 'Ni111'.\n",
      "WARNING:root:Found multiple binding energies for 'Ni'. Using 'Ni111'.\n",
      "WARNING:root:Found multiple binding energies for 'Ni'. Using 'Ni111'.\n",
      "WARNING:root:Found multiple binding energies for 'Ni'. Using 'Ni111'.\n",
      "WARNING:root:Found multiple binding energies for 'Ni'. Using 'Ni111'.\n",
      "WARNING:root:Found multiple binding energies for 'Ni'. Using 'Ni111'.\n",
      "WARNING:root:Found multiple binding energies for 'Ni'. Using 'Ni111'.\n",
      "WARNING:root:Found multiple binding energies for 'Ni'. Using 'Ni111'.\n",
      "WARNING:root:Found multiple binding energies for 'Ni'. Using 'Ni111'.\n",
      "WARNING:root:Found multiple binding energies for 'Ni'. Using 'Ni111'.\n",
      "WARNING:root:Found multiple binding energies for 'Cu'. Using 'Cu111'.\n",
      "WARNING:root:Found multiple binding energies for 'Cu'. Using 'Cu111'.\n",
      "WARNING:root:Found multiple binding energies for 'Cu'. Using 'Cu111'.\n",
      "WARNING:root:Found multiple binding energies for 'Cu'. Using 'Cu111'.\n",
      "WARNING:root:Found multiple binding energies for 'Pt'. Using 'Pt111'.\n",
      "WARNING:root:Found multiple binding energies for 'Pt'. Using 'Pt111'.\n",
      "WARNING:root:Found multiple binding energies for 'Pt'. Using 'Pt111'.\n",
      "WARNING:root:Found multiple binding energies for 'Pt'. Using 'Pt111'.\n",
      "WARNING:root:Found multiple binding energies for 'Pt'. Using 'Pt111'.\n",
      "WARNING:root:Found multiple binding energies for 'Pt'. Using 'Pt111'.\n",
      "WARNING:root:Found multiple binding energies for 'Pt'. Using 'Pt111'.\n",
      "WARNING:root:Found multiple binding energies for 'Pt'. Using 'Pt111'.\n",
      "WARNING:root:Found multiple binding energies for 'Cu'. Using 'Cu111'.\n",
      "WARNING:root:Found multiple binding energies for 'Cu'. Using 'Cu111'.\n",
      "WARNING:root:Found multiple binding energies for 'Cu'. Using 'Cu111'.\n",
      "WARNING:root:Found multiple binding energies for 'Cu'. Using 'Cu111'.\n",
      "WARNING:root:Found multiple binding energies for 'Cu'. Using 'Cu111'.\n",
      "WARNING:root:Found multiple binding energies for 'Cu'. Using 'Cu111'.\n",
      "WARNING:root:Found multiple binding energies for 'Cu'. Using 'Cu111'.\n",
      "WARNING:root:Found multiple binding energies for 'Cu'. Using 'Cu111'.\n",
      "WARNING:root:Found multiple binding energies for 'Cu'. Using 'Cu111'.\n",
      "WARNING:root:Found multiple binding energies for 'Cu'. Using 'Cu111'.\n",
      "WARNING:root:Found multiple binding energies for 'Cu'. Using 'Cu111'.\n",
      "WARNING:root:Found multiple binding energies for 'Cu'. Using 'Cu111'.\n",
      "WARNING:root:Found multiple binding energies for 'Cu'. Using 'Cu111'.\n",
      "WARNING:root:Found multiple binding energies for 'Cu'. Using 'Cu111'.\n",
      "WARNING:root:Found multiple binding energies for 'Cu'. Using 'Cu111'.\n",
      "WARNING:root:Found multiple binding energies for 'Cu'. Using 'Cu111'.\n",
      "WARNING:root:Found multiple binding energies for 'Cu'. Using 'Cu111'.\n",
      "WARNING:root:Found multiple binding energies for 'Cu'. Using 'Cu111'.\n",
      "WARNING:root:Found multiple binding energies for 'Cu'. Using 'Cu111'.\n",
      "WARNING:root:Found multiple binding energies for 'Cu'. Using 'Cu111'.\n",
      "WARNING:root:Found multiple binding energies for 'Ni'. Using 'Ni111'.\n",
      "WARNING:root:Found multiple binding energies for 'Ni'. Using 'Ni111'.\n",
      "WARNING:root:Found multiple binding energies for 'Ni'. Using 'Ni111'.\n",
      "WARNING:root:Found multiple binding energies for 'Ni'. Using 'Ni111'.\n",
      "WARNING:root:Found multiple binding energies for 'Cu'. Using 'Cu111'.\n",
      "WARNING:root:Found multiple binding energies for 'Cu'. Using 'Cu111'.\n",
      "WARNING:root:Found multiple binding energies for 'Cu'. Using 'Cu111'.\n",
      "WARNING:root:Found multiple binding energies for 'Cu'. Using 'Cu111'.\n",
      "WARNING:root:Found multiple binding energies for 'Cu'. Using 'Cu111'.\n",
      "WARNING:root:Found multiple binding energies for 'Cu'. Using 'Cu111'.\n",
      "WARNING:root:Found multiple binding energies for 'Cu'. Using 'Cu111'.\n",
      "WARNING:root:Found multiple binding energies for 'Cu'. Using 'Cu111'.\n",
      "WARNING:root:Found multiple binding energies for 'Cu'. Using 'Cu111'.\n",
      "WARNING:root:Found multiple binding energies for 'Cu'. Using 'Cu111'.\n",
      "WARNING:root:Found multiple binding energies for 'Cu'. Using 'Cu111'.\n",
      "WARNING:root:Found multiple binding energies for 'Cu'. Using 'Cu111'.\n",
      "WARNING:root:Found multiple binding energies for 'Pt'. Using 'Pt111'.\n",
      "WARNING:root:Found multiple binding energies for 'Pt'. Using 'Pt111'.\n",
      "WARNING:root:Found multiple binding energies for 'Pt'. Using 'Pt111'.\n",
      "WARNING:root:Found multiple binding energies for 'Pt'. Using 'Pt111'.\n",
      "WARNING:root:Found multiple binding energies for 'Pt'. Using 'Pt111'.\n",
      "WARNING:root:Found multiple binding energies for 'Pt'. Using 'Pt111'.\n"
     ]
    },
    {
     "name": "stderr",
     "output_type": "stream",
     "text": [
      "WARNING:root:Found multiple binding energies for 'Pt'. Using 'Pt111'.\n",
      "WARNING:root:Found multiple binding energies for 'Pt'. Using 'Pt111'.\n",
      "WARNING:root:Found multiple binding energies for 'Pt'. Using 'Pt111'.\n",
      "WARNING:root:Found multiple binding energies for 'Pt'. Using 'Pt111'.\n",
      "WARNING:root:Found multiple binding energies for 'Cu'. Using 'Cu111'.\n",
      "WARNING:root:Found multiple binding energies for 'Cu'. Using 'Cu111'.\n",
      "WARNING:root:Found multiple binding energies for 'Cu'. Using 'Cu111'.\n",
      "WARNING:root:Found multiple binding energies for 'Cu'. Using 'Cu111'.\n",
      "WARNING:root:Found multiple binding energies for 'Cu'. Using 'Cu111'.\n",
      "WARNING:root:Found multiple binding energies for 'Cu'. Using 'Cu111'.\n",
      "WARNING:root:Found multiple binding energies for 'Cu'. Using 'Cu111'.\n",
      "WARNING:root:Found multiple binding energies for 'Cu'. Using 'Cu111'.\n",
      "WARNING:root:Found multiple binding energies for 'Cu'. Using 'Cu111'.\n",
      "WARNING:root:Found multiple binding energies for 'Cu'. Using 'Cu111'.\n",
      "WARNING:root:Found multiple binding energies for 'Cu'. Using 'Cu111'.\n",
      "WARNING:root:Found multiple binding energies for 'Cu'. Using 'Cu111'.\n",
      "WARNING:root:Found multiple binding energies for 'Cu'. Using 'Cu111'.\n",
      "WARNING:root:Found multiple binding energies for 'Cu'. Using 'Cu111'.\n",
      "WARNING:root:Found multiple binding energies for 'Cu'. Using 'Cu111'.\n",
      "WARNING:root:Found multiple binding energies for 'Cu'. Using 'Cu111'.\n",
      "WARNING:root:Found multiple binding energies for 'Cu'. Using 'Cu111'.\n",
      "WARNING:root:Found multiple binding energies for 'Cu'. Using 'Cu111'.\n",
      "WARNING:root:Found multiple binding energies for 'Cu'. Using 'Cu111'.\n",
      "WARNING:root:Found multiple binding energies for 'Cu'. Using 'Cu111'.\n"
     ]
    }
   ],
   "source": [
    "# load kinetics database (required for labeling atoms)\n",
    "\n",
    "database = rmgpy.data.rmg.RMGDatabase()\n",
    "\n",
    "thermo_libraries = [\n",
    "    'primaryThermoLibrary',\n",
    "    'surfaceThermoPt111',\n",
    "]\n",
    "\n",
    "database.load(\n",
    "    path = rmgpy.settings['database.directory'],\n",
    "    thermo_libraries = thermo_libraries,\n",
    "    transport_libraries = [],\n",
    "    reaction_libraries = [],\n",
    "    seed_mechanisms = [],\n",
    "    kinetics_families = 'all',\n",
    "    kinetics_depositories = ['training'],\n",
    "    #frequenciesLibraries = self.statmechLibraries,\n",
    "    depository = False,\n",
    ")\n",
    "for family in database.kinetics.families:\n",
    "    if not database.kinetics.families[family].auto_generated:\n",
    "        database.kinetics.families[family].add_rules_from_training(thermo_database=database.thermo)\n",
    "        database.kinetics.families[family].fill_rules_by_averaging_up(verbose=True)\n"
   ]
  },
  {
   "cell_type": "code",
   "execution_count": 20,
   "id": "437f9a7e",
   "metadata": {},
   "outputs": [
    {
     "name": "stdout",
     "output_type": "stream",
     "text": [
      "Reaction 385:\tX(1) + H(2) <=> HX(3)\t\tSurface_Adsorption_Single\n",
      "Reactants:\n",
      "X\n",
      "1 *2 X u0 p0 c0\n",
      "\n",
      "\n",
      "H\n",
      "multiplicity 2\n",
      "1 *1 H u1 p0 c0\n",
      "\n",
      "\n",
      "Products:\n",
      "H\n",
      "multiplicity 2\n",
      "1 *1 H u1 p0 c0\n",
      "\n",
      "\n"
     ]
    }
   ],
   "source": [
    "i = 385\n",
    "\n",
    "assert hasattr(reaction_list[i], 'family') and reaction_list[i].family in database.kinetics.families\n",
    "\n",
    "\n",
    "# label the atoms\n",
    "database.kinetics.families[reaction_list[i].family].add_atom_labels_for_reaction(reaction_list[i])\n",
    "\n",
    "print(f'Reaction {i}:\\t{reaction_list[i]}\\t\\t{reaction_list[i].family}')\n",
    "\n",
    "\n",
    "print('Reactants:')\n",
    "for reactant in reaction_list[i].reactants:\n",
    "    print(reactant.to_adjacency_list())\n",
    "    print()\n",
    "    \n",
    "print('Products:')\n",
    "for product in reaction_list[i].products:\n",
    "    print(reactant.to_adjacency_list())\n",
    "    print()\n"
   ]
  },
  {
   "cell_type": "code",
   "execution_count": 22,
   "id": "c331c74a",
   "metadata": {},
   "outputs": [
    {
     "data": {
      "text/plain": [
       "384"
      ]
     },
     "metadata": {},
     "output_type": "display_data"
    },
    {
     "data": {
      "image/png": "[encoded data removed]",
      "text/plain": [
       "LibraryReaction(index=385, reactants=[Species(index=1, label=\"X\", thermo=NASA(polynomials=[NASAPolynomial(coeffs=[0,0,0,0,0,0,0], Tmin=(298,'K'), Tmax=(1000,'K')), NASAPolynomial(coeffs=[0,0,0,0,0,0,0], Tmin=(1000,'K'), Tmax=(3000,'K'))], Tmin=(298,'K'), Tmax=(3000,'K'), comment=\"\"\"Thermo library: surfaceThermoFe110\"\"\"), molecule=[Molecule(smiles=\"[X]\")], molecular_weight=(0,'amu')), Species(index=1, label=\"X\", thermo=NASA(polynomials=[NASAPolynomial(coeffs=[0,0,0,0,0,0,0], Tmin=(298,'K'), Tmax=(1000,'K')), NASAPolynomial(coeffs=[0,0,0,0,0,0,0], Tmin=(1000,'K'), Tmax=(3000,'K'))], Tmin=(298,'K'), Tmax=(3000,'K'), comment=\"\"\"Thermo library: surfaceThermoFe110\"\"\"), molecule=[Molecule(smiles=\"[X]\")], molecular_weight=(0,'amu')), Species(index=26, label=\"O2\", thermo=NASA(polynomials=[NASAPolynomial(coeffs=[3.53732,-0.00121571,5.31618e-06,-4.89443e-09,1.45845e-12,-1038.59,4.68368], Tmin=(100,'K'), Tmax=(1074.56,'K')), NASAPolynomial(coeffs=[3.15382,0.00167804,-7.69971e-07,1.51275e-10,-1.08782e-14,-1040.82,6.16754], Tmin=(1074.56,'K'), Tmax=(5000,'K'))], Tmin=(100,'K'), Tmax=(5000,'K'), comment=\"\"\"Thermo library: primaryThermoLibrary\"\"\"), molecule=[Molecule(smiles=\"[O][O]\")], molecular_weight=(31.9988,'amu'))], products=[Species(index=7, label=\"OX\", thermo=NASA(polynomials=[NASAPolynomial(coeffs=[-0.712491,0.0171469,-3.227e-05,2.75916e-08,-8.84466e-12,-41010.8,1.59429], Tmin=(100,'K'), Tmax=(873.71,'K')), NASAPolynomial(coeffs=[2.13663,0.00147253,-8.43505e-07,1.66114e-10,-1.11725e-14,-41408.3,-11.1918], Tmin=(873.71,'K'), Tmax=(5000,'K'))], Tmin=(100,'K'), Tmax=(5000,'K'), comment=\"\"\"Thermo library: surfaceThermoFe110\"\"\"), molecule=[Molecule(smiles=\"O=[X]\")], molecular_weight=(15.9994,'amu')), Species(index=7, label=\"OX\", thermo=NASA(polynomials=[NASAPolynomial(coeffs=[-0.712491,0.0171469,-3.227e-05,2.75916e-08,-8.84466e-12,-41010.8,1.59429], Tmin=(100,'K'), Tmax=(873.71,'K')), NASAPolynomial(coeffs=[2.13663,0.00147253,-8.43505e-07,1.66114e-10,-1.11725e-14,-41408.3,-11.1918], Tmin=(873.71,'K'), Tmax=(5000,'K'))], Tmin=(100,'K'), Tmax=(5000,'K'), comment=\"\"\"Thermo library: surfaceThermoFe110\"\"\"), molecule=[Molecule(smiles=\"O=[X]\")], molecular_weight=(15.9994,'amu'))], kinetics=StickingCoefficient(A=0.07, n=0, Ea=(0,'kcal/mol'), T0=(1,'K')), pairs=[(Species(index=26, label=\"O2\", thermo=NASA(polynomials=[NASAPolynomial(coeffs=[3.53732,-0.00121571,5.31618e-06,-4.89443e-09,1.45845e-12,-1038.59,4.68368], Tmin=(100,'K'), Tmax=(1074.56,'K')), NASAPolynomial(coeffs=[3.15382,0.00167804,-7.69971e-07,1.51275e-10,-1.08782e-14,-1040.82,6.16754], Tmin=(1074.56,'K'), Tmax=(5000,'K'))], Tmin=(100,'K'), Tmax=(5000,'K'), comment=\"\"\"Thermo library: primaryThermoLibrary\"\"\"), molecule=[Molecule(smiles=\"[O][O]\")], molecular_weight=(31.9988,'amu')), Species(index=7, label=\"OX\", thermo=NASA(polynomials=[NASAPolynomial(coeffs=[-0.712491,0.0171469,-3.227e-05,2.75916e-08,-8.84466e-12,-41010.8,1.59429], Tmin=(100,'K'), Tmax=(873.71,'K')), NASAPolynomial(coeffs=[2.13663,0.00147253,-8.43505e-07,1.66114e-10,-1.11725e-14,-41408.3,-11.1918], Tmin=(873.71,'K'), Tmax=(5000,'K'))], Tmin=(100,'K'), Tmax=(5000,'K'), comment=\"\"\"Thermo library: surfaceThermoFe110\"\"\"), molecule=[Molecule(smiles=\"O=[X]\")], molecular_weight=(15.9994,'amu'))), (Species(index=1, label=\"X\", thermo=NASA(polynomials=[NASAPolynomial(coeffs=[0,0,0,0,0,0,0], Tmin=(298,'K'), Tmax=(1000,'K')), NASAPolynomial(coeffs=[0,0,0,0,0,0,0], Tmin=(1000,'K'), Tmax=(3000,'K'))], Tmin=(298,'K'), Tmax=(3000,'K'), comment=\"\"\"Thermo library: surfaceThermoFe110\"\"\"), molecule=[Molecule(smiles=\"[X]\")], molecular_weight=(0,'amu')), Species(index=7, label=\"OX\", thermo=NASA(polynomials=[NASAPolynomial(coeffs=[-0.712491,0.0171469,-3.227e-05,2.75916e-08,-8.84466e-12,-41010.8,1.59429], Tmin=(100,'K'), Tmax=(873.71,'K')), NASAPolynomial(coeffs=[2.13663,0.00147253,-8.43505e-07,1.66114e-10,-1.11725e-14,-41408.3,-11.1918], Tmin=(873.71,'K'), Tmax=(5000,'K'))], Tmin=(100,'K'), Tmax=(5000,'K'), comment=\"\"\"Thermo library: surfaceThermoFe110\"\"\"), molecule=[Molecule(smiles=\"O=[X]\")], molecular_weight=(15.9994,'amu'))), (Species(index=1, label=\"X\", thermo=NASA(polynomials=[NASAPolynomial(coeffs=[0,0,0,0,0,0,0], Tmin=(298,'K'), Tmax=(1000,'K')), NASAPolynomial(coeffs=[0,0,0,0,0,0,0], Tmin=(1000,'K'), Tmax=(3000,'K'))], Tmin=(298,'K'), Tmax=(3000,'K'), comment=\"\"\"Thermo library: surfaceThermoFe110\"\"\"), molecule=[Molecule(smiles=\"[X]\")], molecular_weight=(0,'amu')), Species(index=7, label=\"OX\", thermo=NASA(polynomials=[NASAPolynomial(coeffs=[-0.712491,0.0171469,-3.227e-05,2.75916e-08,-8.84466e-12,-41010.8,1.59429], Tmin=(100,'K'), Tmax=(873.71,'K')), NASAPolynomial(coeffs=[2.13663,0.00147253,-8.43505e-07,1.66114e-10,-1.11725e-14,-41408.3,-11.1918], Tmin=(873.71,'K'), Tmax=(5000,'K'))], Tmin=(100,'K'), Tmax=(5000,'K'), comment=\"\"\"Thermo library: surfaceThermoFe110\"\"\"), molecule=[Molecule(smiles=\"O=[X]\")], molecular_weight=(15.9994,'amu')))])"
      ]
     },
     "metadata": {},
     "output_type": "display_data"
    },
    {
     "data": {
      "text/plain": [
       "410"
      ]
     },
     "metadata": {},
     "output_type": "display_data"
    },
    {
     "data": {
      "image/png": "[encoded data removed]",
      "text/plain": [
       "TemplateReaction(index=411, reactants=[Species(index=7, label=\"OX\", thermo=NASA(polynomials=[NASAPolynomial(coeffs=[-0.712491,0.0171469,-3.227e-05,2.75916e-08,-8.84466e-12,-41010.8,1.59429], Tmin=(100,'K'), Tmax=(873.71,'K')), NASAPolynomial(coeffs=[2.13663,0.00147253,-8.43505e-07,1.66114e-10,-1.11725e-14,-41408.3,-11.1918], Tmin=(873.71,'K'), Tmax=(5000,'K'))], Tmin=(100,'K'), Tmax=(5000,'K'), comment=\"\"\"Thermo library: surfaceThermoFe110\"\"\"), molecule=[Molecule(smiles=\"O=[X]\")], molecular_weight=(15.9994,'amu')), Species(index=17, label=\"H2NX\", thermo=NASA(polynomials=[NASAPolynomial(coeffs=[-1.05406,0.0227286,-2.88319e-05,1.83239e-08,-4.4894e-12,-13259.8,2.93579], Tmin=(100,'K'), Tmax=(1010.66,'K')), NASAPolynomial(coeffs=[3.6145,0.00425225,-1.41117e-06,2.37181e-10,-1.5647e-14,-14203.5,-19.6371], Tmin=(1010.66,'K'), Tmax=(5000,'K'))], Tmin=(100,'K'), Tmax=(5000,'K'), comment=\"\"\"Thermo library: surfaceThermoFe110\"\"\"), molecule=[Molecule(smiles=\"N[X]\")], molecular_weight=(16.0228,'amu'))], products=[Species(index=19, label=\"HOX\", thermo=NASA(polynomials=[NASAPolynomial(coeffs=[-1.32358,0.0348667,-7.48151e-05,7.00816e-08,-2.37155e-11,-40373.9,8.47224], Tmin=(100,'K'), Tmax=(913.91,'K')), NASAPolynomial(coeffs=[2.23377,0.0051092,-2.68809e-06,4.80934e-10,-2.95675e-14,-40431.6,-5.12814], Tmin=(913.91,'K'), Tmax=(5000,'K'))], Tmin=(100,'K'), Tmax=(5000,'K'), comment=\"\"\"Thermo library: surfaceThermoFe110\"\"\"), molecule=[Molecule(smiles=\"O[X]\")], molecular_weight=(17.0074,'amu')), Species(index=15, label=\"HNX\", thermo=NASA(polynomials=[NASAPolynomial(coeffs=[-0.923132,0.017312,-2.04683e-05,1.11797e-08,-2.26059e-12,-17757,2.32484], Tmin=(100,'K'), Tmax=(1357.84,'K')), NASAPolynomial(coeffs=[4.18171,0.000356553,3.80398e-07,-9.64164e-11,6.98522e-15,-18966.6,-23.2138], Tmin=(1357.84,'K'), Tmax=(5000,'K'))], Tmin=(100,'K'), Tmax=(5000,'K'), comment=\"\"\"Thermo library: surfaceThermoFe110\"\"\"), molecule=[Molecule(smiles=\"N=[X]\")], molecular_weight=(15.0148,'amu'))], kinetics=SurfaceArrhenius(A=(6.596e+21,'cm^2/(mol*s)'), n=0, Ea=(0,'kcal/mol'), T0=(1,'K'), comment=\"\"\"Estimated using template [O;*R-H] for rate rule [O;*-N-H]\n",
       "Euclidian distance = 2.0\n",
       "Multiplied by reaction path degeneracy 2.0\n",
       "family: Surface_Abstraction\"\"\"), degeneracy=2.0, pairs=[(Species(index=17, label=\"H2NX\", thermo=NASA(polynomials=[NASAPolynomial(coeffs=[-1.05406,0.0227286,-2.88319e-05,1.83239e-08,-4.4894e-12,-13259.8,2.93579], Tmin=(100,'K'), Tmax=(1010.66,'K')), NASAPolynomial(coeffs=[3.6145,0.00425225,-1.41117e-06,2.37181e-10,-1.5647e-14,-14203.5,-19.6371], Tmin=(1010.66,'K'), Tmax=(5000,'K'))], Tmin=(100,'K'), Tmax=(5000,'K'), comment=\"\"\"Thermo library: surfaceThermoFe110\"\"\"), molecule=[Molecule(smiles=\"N[X]\")], molecular_weight=(16.0228,'amu')), Species(index=15, label=\"HNX\", thermo=NASA(polynomials=[NASAPolynomial(coeffs=[-0.923132,0.017312,-2.04683e-05,1.11797e-08,-2.26059e-12,-17757,2.32484], Tmin=(100,'K'), Tmax=(1357.84,'K')), NASAPolynomial(coeffs=[4.18171,0.000356553,3.80398e-07,-9.64164e-11,6.98522e-15,-18966.6,-23.2138], Tmin=(1357.84,'K'), Tmax=(5000,'K'))], Tmin=(100,'K'), Tmax=(5000,'K'), comment=\"\"\"Thermo library: surfaceThermoFe110\"\"\"), molecule=[Molecule(smiles=\"N=[X]\")], molecular_weight=(15.0148,'amu'))), (Species(index=7, label=\"OX\", thermo=NASA(polynomials=[NASAPolynomial(coeffs=[-0.712491,0.0171469,-3.227e-05,2.75916e-08,-8.84466e-12,-41010.8,1.59429], Tmin=(100,'K'), Tmax=(873.71,'K')), NASAPolynomial(coeffs=[2.13663,0.00147253,-8.43505e-07,1.66114e-10,-1.11725e-14,-41408.3,-11.1918], Tmin=(873.71,'K'), Tmax=(5000,'K'))], Tmin=(100,'K'), Tmax=(5000,'K'), comment=\"\"\"Thermo library: surfaceThermoFe110\"\"\"), molecule=[Molecule(smiles=\"O=[X]\")], molecular_weight=(15.9994,'amu')), Species(index=19, label=\"HOX\", thermo=NASA(polynomials=[NASAPolynomial(coeffs=[-1.32358,0.0348667,-7.48151e-05,7.00816e-08,-2.37155e-11,-40373.9,8.47224], Tmin=(100,'K'), Tmax=(913.91,'K')), NASAPolynomial(coeffs=[2.23377,0.0051092,-2.68809e-06,4.80934e-10,-2.95675e-14,-40431.6,-5.12814], Tmin=(913.91,'K'), Tmax=(5000,'K'))], Tmin=(100,'K'), Tmax=(5000,'K'), comment=\"\"\"Thermo library: surfaceThermoFe110\"\"\"), molecule=[Molecule(smiles=\"O[X]\")], molecular_weight=(17.0074,'amu')))], family='Surface_Abstraction', template=['O', '*-N-H'])"
      ]
     },
     "metadata": {},
     "output_type": "display_data"
    },
    {
     "data": {
      "text/plain": [
       "385"
      ]
     },
     "metadata": {},
     "output_type": "display_data"
    },
    {
     "data": {
      "image/png": "[encoded data removed]",
      "text/plain": [
       "TemplateReaction(index=386, reactants=[Species(index=1, label=\"X\", thermo=NASA(polynomials=[NASAPolynomial(coeffs=[0,0,0,0,0,0,0], Tmin=(298,'K'), Tmax=(1000,'K')), NASAPolynomial(coeffs=[0,0,0,0,0,0,0], Tmin=(1000,'K'), Tmax=(3000,'K'))], Tmin=(298,'K'), Tmax=(3000,'K'), comment=\"\"\"Thermo library: surfaceThermoFe110\"\"\"), molecule=[Molecule(smiles=\"[X]\")], molecular_weight=(0,'amu')), Species(index=2, label=\"H\", thermo=NASA(polynomials=[NASAPolynomial(coeffs=[2.5,-2.06855e-14,2.66266e-17,-1.11497e-20,1.43542e-24,25474.2,-0.444973], Tmin=(100,'K'), Tmax=(4561.14,'K')), NASAPolynomial(coeffs=[2.50002,-1.64942e-08,5.30955e-12,-7.59275e-16,4.06972e-20,25474.2,-0.445095], Tmin=(4561.14,'K'), Tmax=(5000,'K'))], Tmin=(100,'K'), Tmax=(5000,'K'), comment=\"\"\"Thermo library: primaryThermoLibrary\"\"\"), molecule=[Molecule(smiles=\"[H]\")], molecular_weight=(1.00797,'amu'))], products=[Species(index=3, label=\"HX\", thermo=NASA(polynomials=[NASAPolynomial(coeffs=[-0.377311,0.00523441,3.53289e-06,-1.07921e-08,5.09304e-12,-8958.65,1.01668], Tmin=(100,'K'), Tmax=(949.78,'K')), NASAPolynomial(coeffs=[2.87901,-0.000691033,5.90484e-07,-9.28848e-11,4.20289e-15,-9928.51,-16.3748], Tmin=(949.78,'K'), Tmax=(5000,'K'))], Tmin=(100,'K'), Tmax=(5000,'K'), comment=\"\"\"Thermo library: surfaceThermoFe110\"\"\"), molecule=[Molecule(smiles=\"[XH]\")], molecular_weight=(1.00797,'amu'))], kinetics=StickingCoefficient(A=0.85, n=0, Ea=(0,'kcal/mol'), T0=(1,'K'), comment=\"\"\"Estimated using template [Adsorbate;VacantSite] for rate rule [H;VacantSite]\n",
       "Euclidian distance = 1.0\n",
       "family: Surface_Adsorption_Single\"\"\"), pairs=[(Species(index=2, label=\"H\", thermo=NASA(polynomials=[NASAPolynomial(coeffs=[2.5,-2.06855e-14,2.66266e-17,-1.11497e-20,1.43542e-24,25474.2,-0.444973], Tmin=(100,'K'), Tmax=(4561.14,'K')), NASAPolynomial(coeffs=[2.50002,-1.64942e-08,5.30955e-12,-7.59275e-16,4.06972e-20,25474.2,-0.445095], Tmin=(4561.14,'K'), Tmax=(5000,'K'))], Tmin=(100,'K'), Tmax=(5000,'K'), comment=\"\"\"Thermo library: primaryThermoLibrary\"\"\"), molecule=[Molecule(smiles=\"[H]\")], molecular_weight=(1.00797,'amu')), Species(index=3, label=\"HX\", thermo=NASA(polynomials=[NASAPolynomial(coeffs=[-0.377311,0.00523441,3.53289e-06,-1.07921e-08,5.09304e-12,-8958.65,1.01668], Tmin=(100,'K'), Tmax=(949.78,'K')), NASAPolynomial(coeffs=[2.87901,-0.000691033,5.90484e-07,-9.28848e-11,4.20289e-15,-9928.51,-16.3748], Tmin=(949.78,'K'), Tmax=(5000,'K'))], Tmin=(100,'K'), Tmax=(5000,'K'), comment=\"\"\"Thermo library: surfaceThermoFe110\"\"\"), molecule=[Molecule(smiles=\"[XH]\")], molecular_weight=(1.00797,'amu'))), (Species(index=1, label=\"X\", thermo=NASA(polynomials=[NASAPolynomial(coeffs=[0,0,0,0,0,0,0], Tmin=(298,'K'), Tmax=(1000,'K')), NASAPolynomial(coeffs=[0,0,0,0,0,0,0], Tmin=(1000,'K'), Tmax=(3000,'K'))], Tmin=(298,'K'), Tmax=(3000,'K'), comment=\"\"\"Thermo library: surfaceThermoFe110\"\"\"), molecule=[Molecule(smiles=\"[X]\")], molecular_weight=(0,'amu')), Species(index=3, label=\"HX\", thermo=NASA(polynomials=[NASAPolynomial(coeffs=[-0.377311,0.00523441,3.53289e-06,-1.07921e-08,5.09304e-12,-8958.65,1.01668], Tmin=(100,'K'), Tmax=(949.78,'K')), NASAPolynomial(coeffs=[2.87901,-0.000691033,5.90484e-07,-9.28848e-11,4.20289e-15,-9928.51,-16.3748], Tmin=(949.78,'K'), Tmax=(5000,'K'))], Tmin=(100,'K'), Tmax=(5000,'K'), comment=\"\"\"Thermo library: surfaceThermoFe110\"\"\"), molecule=[Molecule(smiles=\"[XH]\")], molecular_weight=(1.00797,'amu')))], family='Surface_Adsorption_Single', template=['H', 'VacantSite'])"
      ]
     },
     "metadata": {},
     "output_type": "display_data"
    },
    {
     "data": {
      "text/plain": [
       "386"
      ]
     },
     "metadata": {},
     "output_type": "display_data"
    },
    {
     "data": {
      "image/png": "[encoded data removed]",
      "text/plain": [
       "TemplateReaction(index=387, reactants=[Species(index=1, label=\"X\", thermo=NASA(polynomials=[NASAPolynomial(coeffs=[0,0,0,0,0,0,0], Tmin=(298,'K'), Tmax=(1000,'K')), NASAPolynomial(coeffs=[0,0,0,0,0,0,0], Tmin=(1000,'K'), Tmax=(3000,'K'))], Tmin=(298,'K'), Tmax=(3000,'K'), comment=\"\"\"Thermo library: surfaceThermoFe110\"\"\"), molecule=[Molecule(smiles=\"[X]\")], molecular_weight=(0,'amu')), Species(index=8, label=\"NH3\", thermo=NASA(polynomials=[NASAPolynomial(coeffs=[4.09069,-0.00207165,1.14753e-05,-9.47507e-09,2.61225e-12,-6690.36,0.0222487], Tmin=(100,'K'), Tmax=(993.31,'K')), NASAPolynomial(coeffs=[2.12302,0.0064566,-2.31619e-06,3.93871e-10,-2.58109e-14,-6329.29,9.3518], Tmin=(993.31,'K'), Tmax=(5000,'K'))], Tmin=(100,'K'), Tmax=(5000,'K'), comment=\"\"\"Thermo library: primaryThermoLibrary\"\"\"), molecule=[Molecule(smiles=\"N\")], molecular_weight=(17.0308,'amu'))], products=[Species(index=9, label=\"NH3X\", thermo=NASA(polynomials=[NASAPolynomial(coeffs=[-1.34551,0.0338516,-5.98228e-05,5.41831e-08,-1.8411e-11,-13346.9,5.02702], Tmin=(100,'K'), Tmax=(894.18,'K')), NASAPolynomial(coeffs=[1.5623,0.0109743,-4.8892e-06,8.82814e-10,-5.78148e-14,-13472.4,-6.46994], Tmin=(894.18,'K'), Tmax=(5000,'K'))], Tmin=(100,'K'), Tmax=(5000,'K'), comment=\"\"\"Thermo library: surfaceThermoFe110\"\"\"), molecule=[Molecule(smiles=\"[X].N\")], molecular_weight=(17.0308,'amu'))], kinetics=StickingCoefficient(A=0.008, n=0, Ea=(0,'kcal/mol'), T0=(1,'K'), comment=\"\"\"From training reaction 11 used for Adsorbate;VacantSite\n",
       "Exact match found for rate rule [Adsorbate;VacantSite]\n",
       "Euclidian distance = 0\n",
       "family: Surface_Adsorption_vdW\"\"\"), pairs=[(Species(index=8, label=\"NH3\", thermo=NASA(polynomials=[NASAPolynomial(coeffs=[4.09069,-0.00207165,1.14753e-05,-9.47507e-09,2.61225e-12,-6690.36,0.0222487], Tmin=(100,'K'), Tmax=(993.31,'K')), NASAPolynomial(coeffs=[2.12302,0.0064566,-2.31619e-06,3.93871e-10,-2.58109e-14,-6329.29,9.3518], Tmin=(993.31,'K'), Tmax=(5000,'K'))], Tmin=(100,'K'), Tmax=(5000,'K'), comment=\"\"\"Thermo library: primaryThermoLibrary\"\"\"), molecule=[Molecule(smiles=\"N\")], molecular_weight=(17.0308,'amu')), Species(index=9, label=\"NH3X\", thermo=NASA(polynomials=[NASAPolynomial(coeffs=[-1.34551,0.0338516,-5.98228e-05,5.41831e-08,-1.8411e-11,-13346.9,5.02702], Tmin=(100,'K'), Tmax=(894.18,'K')), NASAPolynomial(coeffs=[1.5623,0.0109743,-4.8892e-06,8.82814e-10,-5.78148e-14,-13472.4,-6.46994], Tmin=(894.18,'K'), Tmax=(5000,'K'))], Tmin=(100,'K'), Tmax=(5000,'K'), comment=\"\"\"Thermo library: surfaceThermoFe110\"\"\"), molecule=[Molecule(smiles=\"[X].N\")], molecular_weight=(17.0308,'amu'))), (Species(index=1, label=\"X\", thermo=NASA(polynomials=[NASAPolynomial(coeffs=[0,0,0,0,0,0,0], Tmin=(298,'K'), Tmax=(1000,'K')), NASAPolynomial(coeffs=[0,0,0,0,0,0,0], Tmin=(1000,'K'), Tmax=(3000,'K'))], Tmin=(298,'K'), Tmax=(3000,'K'), comment=\"\"\"Thermo library: surfaceThermoFe110\"\"\"), molecule=[Molecule(smiles=\"[X]\")], molecular_weight=(0,'amu')), Species(index=9, label=\"NH3X\", thermo=NASA(polynomials=[NASAPolynomial(coeffs=[-1.34551,0.0338516,-5.98228e-05,5.41831e-08,-1.8411e-11,-13346.9,5.02702], Tmin=(100,'K'), Tmax=(894.18,'K')), NASAPolynomial(coeffs=[1.5623,0.0109743,-4.8892e-06,8.82814e-10,-5.78148e-14,-13472.4,-6.46994], Tmin=(894.18,'K'), Tmax=(5000,'K'))], Tmin=(100,'K'), Tmax=(5000,'K'), comment=\"\"\"Thermo library: surfaceThermoFe110\"\"\"), molecule=[Molecule(smiles=\"[X].N\")], molecular_weight=(17.0308,'amu')))], family='Surface_Adsorption_vdW', template=['Adsorbate', 'VacantSite'])"
      ]
     },
     "metadata": {},
     "output_type": "display_data"
    },
    {
     "data": {
      "text/plain": [
       "394"
      ]
     },
     "metadata": {},
     "output_type": "display_data"
    },
    {
     "data": {
      "image/png": "[encoded data removed]",
      "text/plain": [
       "TemplateReaction(index=395, reactants=[Species(index=1, label=\"X\", thermo=NASA(polynomials=[NASAPolynomial(coeffs=[0,0,0,0,0,0,0], Tmin=(298,'K'), Tmax=(1000,'K')), NASAPolynomial(coeffs=[0,0,0,0,0,0,0], Tmin=(1000,'K'), Tmax=(3000,'K'))], Tmin=(298,'K'), Tmax=(3000,'K'), comment=\"\"\"Thermo library: surfaceThermoFe110\"\"\"), molecule=[Molecule(smiles=\"[X]\")], molecular_weight=(0,'amu')), Species(index=9, label=\"NH3X\", thermo=NASA(polynomials=[NASAPolynomial(coeffs=[-1.34551,0.0338516,-5.98228e-05,5.41831e-08,-1.8411e-11,-13346.9,5.02702], Tmin=(100,'K'), Tmax=(894.18,'K')), NASAPolynomial(coeffs=[1.5623,0.0109743,-4.8892e-06,8.82814e-10,-5.78148e-14,-13472.4,-6.46994], Tmin=(894.18,'K'), Tmax=(5000,'K'))], Tmin=(100,'K'), Tmax=(5000,'K'), comment=\"\"\"Thermo library: surfaceThermoFe110\"\"\"), molecule=[Molecule(smiles=\"[X].N\")], molecular_weight=(17.0308,'amu'))], products=[Species(index=3, label=\"HX\", thermo=NASA(polynomials=[NASAPolynomial(coeffs=[-0.377311,0.00523441,3.53289e-06,-1.07921e-08,5.09304e-12,-8958.65,1.01668], Tmin=(100,'K'), Tmax=(949.78,'K')), NASAPolynomial(coeffs=[2.87901,-0.000691033,5.90484e-07,-9.28848e-11,4.20289e-15,-9928.51,-16.3748], Tmin=(949.78,'K'), Tmax=(5000,'K'))], Tmin=(100,'K'), Tmax=(5000,'K'), comment=\"\"\"Thermo library: surfaceThermoFe110\"\"\"), molecule=[Molecule(smiles=\"[XH]\")], molecular_weight=(1.00797,'amu')), Species(index=17, label=\"H2NX\", thermo=NASA(polynomials=[NASAPolynomial(coeffs=[-1.05406,0.0227286,-2.88319e-05,1.83239e-08,-4.4894e-12,-13259.8,2.93579], Tmin=(100,'K'), Tmax=(1010.66,'K')), NASAPolynomial(coeffs=[3.6145,0.00425225,-1.41117e-06,2.37181e-10,-1.5647e-14,-14203.5,-19.6371], Tmin=(1010.66,'K'), Tmax=(5000,'K'))], Tmin=(100,'K'), Tmax=(5000,'K'), comment=\"\"\"Thermo library: surfaceThermoFe110\"\"\"), molecule=[Molecule(smiles=\"N[X]\")], molecular_weight=(16.0228,'amu'))], kinetics=SurfaceArrhenius(A=(5.723e+22,'cm^2/(mol*s)'), n=0, Ea=(18.879,'kcal/mol'), T0=(1,'K'), comment=\"\"\"Matched reaction 7 NH3_X + X_4 <=> NH2_X + H* in Surface_Dissociation_vdW/training\n",
       "This reaction matched rate rule [N-H;VacantSite]\n",
       "family: Surface_Dissociation_vdW metal: None\"\"\"), pairs=[(Species(index=9, label=\"NH3X\", thermo=NASA(polynomials=[NASAPolynomial(coeffs=[-1.34551,0.0338516,-5.98228e-05,5.41831e-08,-1.8411e-11,-13346.9,5.02702], Tmin=(100,'K'), Tmax=(894.18,'K')), NASAPolynomial(coeffs=[1.5623,0.0109743,-4.8892e-06,8.82814e-10,-5.78148e-14,-13472.4,-6.46994], Tmin=(894.18,'K'), Tmax=(5000,'K'))], Tmin=(100,'K'), Tmax=(5000,'K'), comment=\"\"\"Thermo library: surfaceThermoFe110\"\"\"), molecule=[Molecule(smiles=\"[X].N\")], molecular_weight=(17.0308,'amu')), Species(index=17, label=\"H2NX\", thermo=NASA(polynomials=[NASAPolynomial(coeffs=[-1.05406,0.0227286,-2.88319e-05,1.83239e-08,-4.4894e-12,-13259.8,2.93579], Tmin=(100,'K'), Tmax=(1010.66,'K')), NASAPolynomial(coeffs=[3.6145,0.00425225,-1.41117e-06,2.37181e-10,-1.5647e-14,-14203.5,-19.6371], Tmin=(1010.66,'K'), Tmax=(5000,'K'))], Tmin=(100,'K'), Tmax=(5000,'K'), comment=\"\"\"Thermo library: surfaceThermoFe110\"\"\"), molecule=[Molecule(smiles=\"N[X]\")], molecular_weight=(16.0228,'amu'))), (Species(index=9, label=\"NH3X\", thermo=NASA(polynomials=[NASAPolynomial(coeffs=[-1.34551,0.0338516,-5.98228e-05,5.41831e-08,-1.8411e-11,-13346.9,5.02702], Tmin=(100,'K'), Tmax=(894.18,'K')), NASAPolynomial(coeffs=[1.5623,0.0109743,-4.8892e-06,8.82814e-10,-5.78148e-14,-13472.4,-6.46994], Tmin=(894.18,'K'), Tmax=(5000,'K'))], Tmin=(100,'K'), Tmax=(5000,'K'), comment=\"\"\"Thermo library: surfaceThermoFe110\"\"\"), molecule=[Molecule(smiles=\"[X].N\")], molecular_weight=(17.0308,'amu')), Species(index=3, label=\"HX\", thermo=NASA(polynomials=[NASAPolynomial(coeffs=[-0.377311,0.00523441,3.53289e-06,-1.07921e-08,5.09304e-12,-8958.65,1.01668], Tmin=(100,'K'), Tmax=(949.78,'K')), NASAPolynomial(coeffs=[2.87901,-0.000691033,5.90484e-07,-9.28848e-11,4.20289e-15,-9928.51,-16.3748], Tmin=(949.78,'K'), Tmax=(5000,'K'))], Tmin=(100,'K'), Tmax=(5000,'K'), comment=\"\"\"Thermo library: surfaceThermoFe110\"\"\"), molecule=[Molecule(smiles=\"[XH]\")], molecular_weight=(1.00797,'amu')))], family='Surface_Dissociation_vdW', template=['N-H', 'VacantSite'])"
      ]
     },
     "metadata": {},
     "output_type": "display_data"
    },
    {
     "data": {
      "text/plain": [
       "396"
      ]
     },
     "metadata": {},
     "output_type": "display_data"
    },
    {
     "data": {
      "image/png": "[encoded data removed]",
      "text/plain": [
       "TemplateReaction(index=397, reactants=[Species(index=1, label=\"X\", thermo=NASA(polynomials=[NASAPolynomial(coeffs=[0,0,0,0,0,0,0], Tmin=(298,'K'), Tmax=(1000,'K')), NASAPolynomial(coeffs=[0,0,0,0,0,0,0], Tmin=(1000,'K'), Tmax=(3000,'K'))], Tmin=(298,'K'), Tmax=(3000,'K'), comment=\"\"\"Thermo library: surfaceThermoFe110\"\"\"), molecule=[Molecule(smiles=\"[X]\")], molecular_weight=(0,'amu')), Species(index=15, label=\"HNX\", thermo=NASA(polynomials=[NASAPolynomial(coeffs=[-0.923132,0.017312,-2.04683e-05,1.11797e-08,-2.26059e-12,-17757,2.32484], Tmin=(100,'K'), Tmax=(1357.84,'K')), NASAPolynomial(coeffs=[4.18171,0.000356553,3.80398e-07,-9.64164e-11,6.98522e-15,-18966.6,-23.2138], Tmin=(1357.84,'K'), Tmax=(5000,'K'))], Tmin=(100,'K'), Tmax=(5000,'K'), comment=\"\"\"Thermo library: surfaceThermoFe110\"\"\"), molecule=[Molecule(smiles=\"N=[X]\")], molecular_weight=(15.0148,'amu'))], products=[Species(index=5, label=\"NX\", thermo=NASA(polynomials=[NASAPolynomial(coeffs=[-0.632147,0.0144792,-2.35036e-05,1.7426e-08,-4.89051e-12,3328.63,1.33806], Tmin=(100,'K'), Tmax=(887.32,'K')), NASAPolynomial(coeffs=[2.39559,0.000830679,-4.31476e-07,9.18212e-11,-6.76576e-15,2791.3,-12.9071], Tmin=(887.32,'K'), Tmax=(5000,'K'))], Tmin=(100,'K'), Tmax=(5000,'K'), comment=\"\"\"Thermo library: surfaceThermoFe110\"\"\"), molecule=[Molecule(smiles=\"N#[X]\")], molecular_weight=(14.0069,'amu')), Species(index=3, label=\"HX\", thermo=NASA(polynomials=[NASAPolynomial(coeffs=[-0.377311,0.00523441,3.53289e-06,-1.07921e-08,5.09304e-12,-8958.65,1.01668], Tmin=(100,'K'), Tmax=(949.78,'K')), NASAPolynomial(coeffs=[2.87901,-0.000691033,5.90484e-07,-9.28848e-11,4.20289e-15,-9928.51,-16.3748], Tmin=(949.78,'K'), Tmax=(5000,'K'))], Tmin=(100,'K'), Tmax=(5000,'K'), comment=\"\"\"Thermo library: surfaceThermoFe110\"\"\"), molecule=[Molecule(smiles=\"[XH]\")], molecular_weight=(1.00797,'amu'))], kinetics=SurfaceArrhenius(A=(6.213e+19,'cm^2/(mol*s)'), n=0, Ea=(24.064,'kcal/mol'), T0=(1,'K'), comment=\"\"\"Matched reaction 11 NHX_2 + Ni_4 <=> NX + HX_5 in Surface_Dissociation/training\n",
       "This reaction matched rate rule [N-H;VacantSite]\n",
       "family: Surface_Dissociation metal: None\n",
       "Ea raised from 22.9 to 100.7 kJ/mol to match endothermicity of reaction.\"\"\"), pairs=[(Species(index=15, label=\"HNX\", thermo=NASA(polynomials=[NASAPolynomial(coeffs=[-0.923132,0.017312,-2.04683e-05,1.11797e-08,-2.26059e-12,-17757,2.32484], Tmin=(100,'K'), Tmax=(1357.84,'K')), NASAPolynomial(coeffs=[4.18171,0.000356553,3.80398e-07,-9.64164e-11,6.98522e-15,-18966.6,-23.2138], Tmin=(1357.84,'K'), Tmax=(5000,'K'))], Tmin=(100,'K'), Tmax=(5000,'K'), comment=\"\"\"Thermo library: surfaceThermoFe110\"\"\"), molecule=[Molecule(smiles=\"N=[X]\")], molecular_weight=(15.0148,'amu')), Species(index=5, label=\"NX\", thermo=NASA(polynomials=[NASAPolynomial(coeffs=[-0.632147,0.0144792,-2.35036e-05,1.7426e-08,-4.89051e-12,3328.63,1.33806], Tmin=(100,'K'), Tmax=(887.32,'K')), NASAPolynomial(coeffs=[2.39559,0.000830679,-4.31476e-07,9.18212e-11,-6.76576e-15,2791.3,-12.9071], Tmin=(887.32,'K'), Tmax=(5000,'K'))], Tmin=(100,'K'), Tmax=(5000,'K'), comment=\"\"\"Thermo library: surfaceThermoFe110\"\"\"), molecule=[Molecule(smiles=\"N#[X]\")], molecular_weight=(14.0069,'amu'))), (Species(index=15, label=\"HNX\", thermo=NASA(polynomials=[NASAPolynomial(coeffs=[-0.923132,0.017312,-2.04683e-05,1.11797e-08,-2.26059e-12,-17757,2.32484], Tmin=(100,'K'), Tmax=(1357.84,'K')), NASAPolynomial(coeffs=[4.18171,0.000356553,3.80398e-07,-9.64164e-11,6.98522e-15,-18966.6,-23.2138], Tmin=(1357.84,'K'), Tmax=(5000,'K'))], Tmin=(100,'K'), Tmax=(5000,'K'), comment=\"\"\"Thermo library: surfaceThermoFe110\"\"\"), molecule=[Molecule(smiles=\"N=[X]\")], molecular_weight=(15.0148,'amu')), Species(index=3, label=\"HX\", thermo=NASA(polynomials=[NASAPolynomial(coeffs=[-0.377311,0.00523441,3.53289e-06,-1.07921e-08,5.09304e-12,-8958.65,1.01668], Tmin=(100,'K'), Tmax=(949.78,'K')), NASAPolynomial(coeffs=[2.87901,-0.000691033,5.90484e-07,-9.28848e-11,4.20289e-15,-9928.51,-16.3748], Tmin=(949.78,'K'), Tmax=(5000,'K'))], Tmin=(100,'K'), Tmax=(5000,'K'), comment=\"\"\"Thermo library: surfaceThermoFe110\"\"\"), molecule=[Molecule(smiles=\"[XH]\")], molecular_weight=(1.00797,'amu')))], family='Surface_Dissociation', template=['N-H', 'VacantSite'])"
      ]
     },
     "metadata": {},
     "output_type": "display_data"
    },
    {
     "data": {
      "text/plain": [
       "398"
      ]
     },
     "metadata": {},
     "output_type": "display_data"
    },
    {
     "data": {
      "image/png": "[encoded data removed]",
      "text/plain": [
       "TemplateReaction(index=399, reactants=[Species(index=1, label=\"X\", thermo=NASA(polynomials=[NASAPolynomial(coeffs=[0,0,0,0,0,0,0], Tmin=(298,'K'), Tmax=(1000,'K')), NASAPolynomial(coeffs=[0,0,0,0,0,0,0], Tmin=(1000,'K'), Tmax=(3000,'K'))], Tmin=(298,'K'), Tmax=(3000,'K'), comment=\"\"\"Thermo library: surfaceThermoFe110\"\"\"), molecule=[Molecule(smiles=\"[X]\")], molecular_weight=(0,'amu')), Species(index=19, label=\"HOX\", thermo=NASA(polynomials=[NASAPolynomial(coeffs=[-1.32358,0.0348667,-7.48151e-05,7.00816e-08,-2.37155e-11,-40373.9,8.47224], Tmin=(100,'K'), Tmax=(913.91,'K')), NASAPolynomial(coeffs=[2.23377,0.0051092,-2.68809e-06,4.80934e-10,-2.95675e-14,-40431.6,-5.12814], Tmin=(913.91,'K'), Tmax=(5000,'K'))], Tmin=(100,'K'), Tmax=(5000,'K'), comment=\"\"\"Thermo library: surfaceThermoFe110\"\"\"), molecule=[Molecule(smiles=\"O[X]\")], molecular_weight=(17.0074,'amu'))], products=[Species(index=7, label=\"OX\", thermo=NASA(polynomials=[NASAPolynomial(coeffs=[-0.712491,0.0171469,-3.227e-05,2.75916e-08,-8.84466e-12,-41010.8,1.59429], Tmin=(100,'K'), Tmax=(873.71,'K')), NASAPolynomial(coeffs=[2.13663,0.00147253,-8.43505e-07,1.66114e-10,-1.11725e-14,-41408.3,-11.1918], Tmin=(873.71,'K'), Tmax=(5000,'K'))], Tmin=(100,'K'), Tmax=(5000,'K'), comment=\"\"\"Thermo library: surfaceThermoFe110\"\"\"), molecule=[Molecule(smiles=\"O=[X]\")], molecular_weight=(15.9994,'amu')), Species(index=3, label=\"HX\", thermo=NASA(polynomials=[NASAPolynomial(coeffs=[-0.377311,0.00523441,3.53289e-06,-1.07921e-08,5.09304e-12,-8958.65,1.01668], Tmin=(100,'K'), Tmax=(949.78,'K')), NASAPolynomial(coeffs=[2.87901,-0.000691033,5.90484e-07,-9.28848e-11,4.20289e-15,-9928.51,-16.3748], Tmin=(949.78,'K'), Tmax=(5000,'K'))], Tmin=(100,'K'), Tmax=(5000,'K'), comment=\"\"\"Thermo library: surfaceThermoFe110\"\"\"), molecule=[Molecule(smiles=\"[XH]\")], molecular_weight=(1.00797,'amu'))], kinetics=SurfaceArrhenius(A=(7.452e+21,'cm^2/(mol*s)'), n=0, Ea=(38.742,'kcal/mol'), T0=(1,'K'), comment=\"\"\"Matched reaction 15 HOX_1 + Ni_4 <=> OX_3 + HX_5 in Surface_Dissociation/training\n",
       "This reaction matched rate rule [O-H;VacantSite]\n",
       "family: Surface_Dissociation metal: None\"\"\"), pairs=[(Species(index=19, label=\"HOX\", thermo=NASA(polynomials=[NASAPolynomial(coeffs=[-1.32358,0.0348667,-7.48151e-05,7.00816e-08,-2.37155e-11,-40373.9,8.47224], Tmin=(100,'K'), Tmax=(913.91,'K')), NASAPolynomial(coeffs=[2.23377,0.0051092,-2.68809e-06,4.80934e-10,-2.95675e-14,-40431.6,-5.12814], Tmin=(913.91,'K'), Tmax=(5000,'K'))], Tmin=(100,'K'), Tmax=(5000,'K'), comment=\"\"\"Thermo library: surfaceThermoFe110\"\"\"), molecule=[Molecule(smiles=\"O[X]\")], molecular_weight=(17.0074,'amu')), Species(index=7, label=\"OX\", thermo=NASA(polynomials=[NASAPolynomial(coeffs=[-0.712491,0.0171469,-3.227e-05,2.75916e-08,-8.84466e-12,-41010.8,1.59429], Tmin=(100,'K'), Tmax=(873.71,'K')), NASAPolynomial(coeffs=[2.13663,0.00147253,-8.43505e-07,1.66114e-10,-1.11725e-14,-41408.3,-11.1918], Tmin=(873.71,'K'), Tmax=(5000,'K'))], Tmin=(100,'K'), Tmax=(5000,'K'), comment=\"\"\"Thermo library: surfaceThermoFe110\"\"\"), molecule=[Molecule(smiles=\"O=[X]\")], molecular_weight=(15.9994,'amu'))), (Species(index=19, label=\"HOX\", thermo=NASA(polynomials=[NASAPolynomial(coeffs=[-1.32358,0.0348667,-7.48151e-05,7.00816e-08,-2.37155e-11,-40373.9,8.47224], Tmin=(100,'K'), Tmax=(913.91,'K')), NASAPolynomial(coeffs=[2.23377,0.0051092,-2.68809e-06,4.80934e-10,-2.95675e-14,-40431.6,-5.12814], Tmin=(913.91,'K'), Tmax=(5000,'K'))], Tmin=(100,'K'), Tmax=(5000,'K'), comment=\"\"\"Thermo library: surfaceThermoFe110\"\"\"), molecule=[Molecule(smiles=\"O[X]\")], molecular_weight=(17.0074,'amu')), Species(index=3, label=\"HX\", thermo=NASA(polynomials=[NASAPolynomial(coeffs=[-0.377311,0.00523441,3.53289e-06,-1.07921e-08,5.09304e-12,-8958.65,1.01668], Tmin=(100,'K'), Tmax=(949.78,'K')), NASAPolynomial(coeffs=[2.87901,-0.000691033,5.90484e-07,-9.28848e-11,4.20289e-15,-9928.51,-16.3748], Tmin=(949.78,'K'), Tmax=(5000,'K'))], Tmin=(100,'K'), Tmax=(5000,'K'), comment=\"\"\"Thermo library: surfaceThermoFe110\"\"\"), molecule=[Molecule(smiles=\"[XH]\")], molecular_weight=(1.00797,'amu')))], family='Surface_Dissociation', template=['O-H', 'VacantSite'])"
      ]
     },
     "metadata": {},
     "output_type": "display_data"
    }
   ],
   "source": [
    "# Important reactions:\n",
    "\n",
    "important_list = [384, 410, 385, 386, 394, 396, 398]\n",
    "for i in important_list:\n",
    "    display(i, reaction_list[i])\n"
   ]
  },
  {
   "cell_type": "code",
   "execution_count": null,
   "id": "e7033b5f",
   "metadata": {},
   "outputs": [],
   "source": []
  },
  {
   "cell_type": "code",
   "execution_count": null,
   "id": "3c8c34ab",
   "metadata": {},
   "outputs": [],
   "source": []
  }
 ],
 "metadata": {
  "kernelspec": {
   "display_name": "Python 3 (ipykernel)",
   "language": "python",
   "name": "python3"
  },
  "language_info": {
   "codemirror_mode": {
    "name": "ipython",
    "version": 3
   },
   "file_extension": ".py",
   "mimetype": "text/x-python",
   "name": "python",
   "nbconvert_exporter": "python",
   "pygments_lexer": "ipython3",
   "version": "3.7.12"
  }
 },
 "nbformat": 4,
 "nbformat_minor": 5
}
